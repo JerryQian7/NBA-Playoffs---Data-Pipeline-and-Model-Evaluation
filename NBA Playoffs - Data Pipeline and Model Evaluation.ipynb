{
 "cells": [
  {
   "cell_type": "markdown",
   "metadata": {},
   "source": [
    "# NBA Playoffs"
   ]
  },
  {
   "cell_type": "markdown",
   "metadata": {},
   "source": [
    "---\n",
    "# Summary of Findings\n",
    "\n",
    "\n",
    "## Introduction\n",
    "---\n",
    "In this project, I want to predict whether a player will make the playoffs in the 2018 season. This will be a classification problem as there will only be two outcomes to this prediction, either the player makes the playoffs or he does not. I will be using the regular season dataset from 2012-2017 as my primary data, but my target variable will be the players in the 2018 playoff statistics dataset while keeping track of who actually made the playoffs. I  added a column to the dataframe indicating whether the player made the playoffs or not, called 'outcome'.\n",
    "\n",
    "My objective will be an accuracy score, since there is not a large class imbalance between the two outcomes. Both outcomes are in fact very close to having equal probabilities, due to there being 16 out of 30 teams that make the playoffs each season. This accuracy score will be based on the number of true positives + the number of true negatives divided by the number of positives + number of negatives within every player of 2018. Or in other words, the number of players we predict will make playoffs **over** the total number of players for that season.\n",
    "\n",
    "\n",
    "\n",
    "\n",
    "### Results: Baseline Model\n",
    "---\n",
    "\n",
    "In my baseline model, I first cleaned the data and removed the duplicates of any player who switched teams during the season but kept the last entry to show that they stayed on that final team. Then I used a pipeline with a column transformer and a decision tree classifier. Since there were no ordinal columns, the dataset consisted of only nominal and categorical columns. In the column transformer, I standardized all the nominal columns (26 of them) and transformed the 2 categorical columns (team & position) to one-hot encoded columns.\n",
    "\n",
    "\n",
    "By using a train-test split on the dataset with a test size of 1/7, I was able to calculate an accuracy score of 0.658. I used a test size of 1/7 because there were 7 seasons worth of data from 2012-2018, but I only wanted to predict on 1 of those 7 years (2018). \n",
    "\n",
    "I believe that my model performed fairly well, considering it only used the given features. However, it did receive a a large amount of features to work with, 26+2=28 in total. I want to improve my score through engineering new features and using different classifiers.\n",
    "\n",
    "### Results: Final Model\n",
    "---\n",
    "\n",
    "In my final model, I researched other key basketball statistics and engineered two very powerful features.\n",
    "\n",
    "The first one is **True Shooting Percentage**, with the formula given below.\n",
    "\n",
    "**TS**% - True Shooting Percentage; the formula is PTS / (2 * TSA). \n",
    "\n",
    "**TSA** - True Shooting Attempts; the formula is FGA + 0.44 * FTA.\n",
    "\n",
    "True shooting percentage is a measure of shooting efficiency that takes into account field goals, 3-point field goals, and free throws. This feature is important because it shows the true efficiecy of a player on offense. It allows the coach to view that player's current offensive rating, and can also provide insight on how well that player performs in general, which is a big indicator of whether the player will make it into playoffs. \n",
    "\n",
    "The second feature I engineered is the **Usage Percentage**.\n",
    "\n",
    "**Usg%** - Usage Percentage; the formula is 100 * ((FGA + 0.44 * FTA + TOV) * (Tm MP / 5)) / (MP * (Tm FGA + 0.44 * Tm FTA + Tm TOV)). \n",
    "\n",
    "Within this formula, there are variable such as 'Tm MP' that indicate that variable is aggregated by team. For example, 'Tm FGA' stands for the field goals attempted by the entire team for that season. I grouped my data by team and year, and transformed a new column that aligned with each player's team and season to indicate his team's minutes played, field goals attempted, free throws attempted, and turnovers. Hence the new columns named ['TM_TOV', 'TM_MP', 'TM_FGA', 'TM_FTA'].\n",
    "\n",
    "Usage percentage is an estimate of the percentage of team plays used by a player while he was on the floor. This is useful because it shows how often the team uses a certain player in their plays. Likely, the more often a player is used in plays, the more critical they are to the team. This is another huge indicator of whether the player will make the playoffs or not, since his usage percentage is related to how reliable and how useful that player is.\n",
    "\n",
    "With my new features incorporated into the pipeline, I was able to get a higher accuracy score of 0.681.\n",
    "\n",
    "Now, I used the grid search cross validation method to search over specified parameter values for the best set of parameters for an estimator. I also incorporated the **random forest classifier** and the **k nearest neighbors** classifier into my grid search. These are the results of using grid search on the 3 classifiers.\n",
    "\n",
    "**Decision Tree Classifier**: {'classifier__max_depth': 18, 'classifier__min_samples_leaf': 1,\n",
    " 'classifier__min_samples_split': 2} **Best score: 0.689**\n",
    "\n",
    "**Random Forest Classifier**: {'classifier__max_depth': 18,\n",
    " 'classifier__min_samples_leaf': 2,\n",
    " 'classifier__min_samples_split': 8} **Best score: 0.708**\n",
    "\n",
    "**K Nearest Neighbors Classifier**: {'classifier__leaf_size': 1, 'classifier__n_neighbors': 7} **Best score: 0.656**\n",
    "\n",
    "To conclude my final model, I was able to improve the accuracy score from my baseline model that used decision tree classfier and two new engineered features. But after using grid search on two new classifiers, I found that the random forest classifier gave me the highest score of 0.708.\n",
    "\n",
    "### Results: Fairness Evaluation\n",
    "---\n",
    "\n",
    "In my fairness evaluation, I assessed whether my model would be consistent for veterans entering the playoffs. I used the age 32 as a cutoff for being a veteran in the NBA.\n",
    "\n",
    "After creating my tables of predictions and outcomes, I ran permutation tests on the entire dataset using the accuracy and true positive parity scores. I set my significance value at 0.05.\n",
    "\n",
    "For the accuracy parity testing, my **test statistic** is the accuracy score and how well it predicts for groups of players that are considered veterans and their entry into the playoffs.\n",
    "\n",
    "For the accuracy parity testing, my **test statistic** is the recall score and how well it predicts for groups of players that are considered veterans and their entry into the playoffs.\n",
    "\n",
    "**Null Hypothesis**: Veterans and non veterans can enter the playoffs equally likely.\n",
    "\n",
    "**Alternative Hypothesis**: Veterans are more likely to enter the playoffs.\n",
    "\n",
    "For the accuracy parity score testing, I received a p-value of **0.45**.\n",
    "\n",
    "For the True Positive parity score testing, I received a p-value of **0.37**.\n",
    "\n",
    "In conclusion, the p-values I got were too high for my significance value and we conclude that we are unable to reject the null hypothesis. Even though the true positive parity score was higher, it was still not significant enough to provide any correlation.\n",
    "\n",
    "---"
   ]
  },
  {
   "cell_type": "markdown",
   "metadata": {},
   "source": [
    "# Your Code Starts Here"
   ]
  },
  {
   "cell_type": "code",
   "execution_count": 2,
   "metadata": {},
   "outputs": [],
   "source": [
    "%matplotlib inline\n",
    "import os\n",
    "\n",
    "import pandas as pd\n",
    "import numpy as np\n",
    "\n",
    "import matplotlib.pyplot as plot\n",
    "import seaborn as sns"
   ]
  },
  {
   "cell_type": "code",
   "execution_count": 3,
   "metadata": {},
   "outputs": [],
   "source": [
    "#reading in the csv\n",
    "df = pd.read_csv('final.csv')\n",
    "df = df.drop(columns=['Unnamed: 0'])"
   ]
  },
  {
   "cell_type": "code",
   "execution_count": 4,
   "metadata": {},
   "outputs": [],
   "source": [
    "pd.set_option('display.max_rows', 50)\n",
    "pd.set_option('display.max_columns', 100)"
   ]
  },
  {
   "cell_type": "markdown",
   "metadata": {},
   "source": [
    "### Results: Baseline Model\n",
    "---"
   ]
  },
  {
   "cell_type": "code",
   "execution_count": null,
   "metadata": {},
   "outputs": [],
   "source": []
  },
  {
   "cell_type": "code",
   "execution_count": 5,
   "metadata": {},
   "outputs": [],
   "source": [
    "#light cleaning\n",
    "#dropping playoff columns\n",
    "df.loc[df['Year_poff'].notnull(), 'Year_poff'] = 1\n",
    "df.rename({'Year_poff': 'outcome'}, axis=1, inplace=True)\n",
    "df['outcome'] = df['outcome'].fillna(0)\n",
    "df = df.drop(columns=['Pos_poff', 'Age_poff', 'Tm_poff', 'G_poff', 'GS_poff', 'MP_poff',\n",
    "       'FG_poff', 'FGA_poff', 'FG%_poff', '3P_poff', '3PA_poff', '3P%_poff',\n",
    "       '2P_poff', '2PA_poff', '2P%_poff', 'eFG%_poff', 'FT_poff', 'FTA_poff',\n",
    "       'FT%_poff', 'ORB_poff', 'DRB_poff', 'TRB_poff', 'AST_poff', 'STL_poff',\n",
    "       'BLK_poff', 'TOV_poff', 'PF_poff', 'PTS_poff'])\n"
   ]
  },
  {
   "cell_type": "code",
   "execution_count": 6,
   "metadata": {},
   "outputs": [],
   "source": [
    "#keeping the last duplicate player row for those players who switched teams during the season\n",
    "df = df.groupby(['Player', 'Year_reg']).tail(1).fillna(0)"
   ]
  },
  {
   "cell_type": "code",
   "execution_count": 7,
   "metadata": {},
   "outputs": [],
   "source": [
    "from sklearn.pipeline import Pipeline\n",
    "from sklearn.compose import ColumnTransformer\n",
    "from sklearn.tree import DecisionTreeClassifier\n",
    "from sklearn.preprocessing import OneHotEncoder\n",
    "from sklearn.preprocessing import StandardScaler\n",
    "from sklearn.model_selection import train_test_split\n",
    "import sklearn.preprocessing as pp\n",
    "import warnings\n",
    "warnings.filterwarnings(\"ignore\")"
   ]
  },
  {
   "cell_type": "code",
   "execution_count": 17,
   "metadata": {},
   "outputs": [],
   "source": [
    "# Numeric columns and associated transformers\n",
    "num_feat = ['Age_reg', 'G_reg', 'GS_reg',\n",
    "       'MP_reg', 'FG_reg', 'FGA_reg', 'FG%_reg', '3P_reg', '3PA_reg',\n",
    "       '3P%_reg', '2P_reg', '2PA_reg', '2P%_reg', 'eFG%_reg', 'FT_reg',\n",
    "       'FTA_reg', 'FT%_reg', 'ORB_reg', 'DRB_reg', 'TRB_reg', 'AST_reg',\n",
    "       'STL_reg', 'BLK_reg', 'TOV_reg', 'PF_reg', 'PTS_reg']\n",
    "num_transformer = Pipeline(steps=[\n",
    "    ('scaler', pp.StandardScaler())\n",
    "])\n",
    "\n",
    "# Categorical columns and associated transformers\n",
    "cat_feat = ['Pos_reg', 'Tm_reg']\n",
    "cat_transformer = Pipeline(steps=[\n",
    "    ('one-hot', pp.OneHotEncoder(handle_unknown='ignore'))\n",
    "])\n",
    "\n",
    "# preprocessing pipeline (put them together)\n",
    "preproc = ColumnTransformer(transformers=[('num', num_transformer, num_feat), ('cat', cat_transformer, cat_feat)])\n",
    "\n",
    "#generic pipeline with basic features, using a decision tree classifier\n",
    "pl = Pipeline(steps=[('preprocessor', preproc), ('classifier', DecisionTreeClassifier())])"
   ]
  },
  {
   "cell_type": "markdown",
   "metadata": {},
   "source": [
    "\n",
    "Conducting a train/test split of 1/7 on the test size. A basic pipeline using generic features such as standard scaler and one hot encoder. I use the decision tree classifier to classify my outcomes."
   ]
  },
  {
   "cell_type": "code",
   "execution_count": 18,
   "metadata": {},
   "outputs": [
    {
     "data": {
      "text/plain": [
       "0.6584867075664622"
      ]
     },
     "execution_count": 18,
     "metadata": {},
     "output_type": "execute_result"
    }
   ],
   "source": [
    "# features\n",
    "X = df.drop('outcome', axis=1)\n",
    "# outcome\n",
    "y = df.outcome\n",
    "\n",
    "# test size is 2018, which is 1 of the 7 years from 2012-2018\n",
    "X_train, X_test, y_train, y_test = train_test_split(X, y, test_size=1/7) \n",
    "pl.fit(X_train, y_train)\n",
    "pl.score(X_test, y_test)"
   ]
  },
  {
   "cell_type": "markdown",
   "metadata": {},
   "source": [
    "### Results: Final Model\n",
    "---"
   ]
  },
  {
   "cell_type": "markdown",
   "metadata": {},
   "source": [
    "In my final model, I engineer two new features: true shooting percentage and usage percentage. "
   ]
  },
  {
   "cell_type": "code",
   "execution_count": 20,
   "metadata": {},
   "outputs": [],
   "source": [
    "#engineering new features\n",
    "\n",
    "#True shooting percentage\n",
    "TSA = df['FGA_reg'] + 0.44 * df['FTA_reg']\n",
    "df['TS%'] = df['PTS_reg'] / (2 * TSA)\n",
    "\n",
    "#Usage Percentage\n",
    "\n",
    "#getting each player's team's total turnovers, minutes played, field goals attempted\n",
    "#and free throws attempted, **per year**\n",
    "\n",
    "#these are just helper columns to calculate the usage rate\n",
    "df['TM_TOV'] = df.groupby(['Tm_reg', 'Year_reg'])['TOV_reg'].transform(sum)\n",
    "df['TM_MP'] = df.groupby(['Tm_reg', 'Year_reg'])['MP_reg'].transform(sum)\n",
    "df['TM_FGA'] = df.groupby(['Tm_reg', 'Year_reg'])['FGA_reg'].transform(sum)\n",
    "df['TM_FTA'] = df.groupby(['Tm_reg', 'Year_reg'])['FTA_reg'].transform(sum)\n",
    "\n",
    "#calculating usage rate\n",
    "df['USG%'] = (((df['FGA_reg'] + 0.44 * df['FTA_reg'] + df['TOV_reg']) * (df['TM_MP'] / 5)) \n",
    "              / (df['MP_reg'] * (df['TM_FGA'] + 0.44 * df['TM_FTA'] + df['TM_TOV'])))\n",
    "                                    \n",
    "df = df.fillna(0)"
   ]
  },
  {
   "cell_type": "markdown",
   "metadata": {},
   "source": [
    "Running the pipeline still using the decision tree classifier, but with two new engineered features."
   ]
  },
  {
   "cell_type": "code",
   "execution_count": 31,
   "metadata": {},
   "outputs": [],
   "source": [
    "# Numeric columns and associated transformers\n",
    "newnum_feat = ['Age_reg', 'G_reg', 'GS_reg',\n",
    "       'MP_reg', 'FG_reg', 'FGA_reg', 'FG%_reg', '3P_reg', '3PA_reg',\n",
    "       '3P%_reg', '2P_reg', '2PA_reg', '2P%_reg', 'eFG%_reg', 'FT_reg',\n",
    "       'FTA_reg', 'FT%_reg', 'ORB_reg', 'DRB_reg', 'TRB_reg', 'AST_reg',\n",
    "       'STL_reg', 'BLK_reg', 'TOV_reg', 'PF_reg', 'PTS_reg', 'TS%', 'USG%']\n",
    "\n",
    "newnum_transformer = Pipeline(steps=[\n",
    "    ('scaler', pp.StandardScaler())\n",
    "])\n",
    "\n",
    "# Categorical columns and associated transformers\n",
    "newcat_feat = ['Pos_reg', 'Tm_reg']\n",
    "newcat_transformer = Pipeline(steps=[\n",
    "    ('onehot', pp.OneHotEncoder(handle_unknown='ignore'))\n",
    "])\n",
    "\n",
    "# preprocessing pipeline (put them together)\n",
    "newpreproc = ColumnTransformer(transformers=[('num', newnum_transformer, newnum_feat), \n",
    "                                          ('cat', newcat_transformer, newcat_feat)])\n",
    "\n",
    "newpl = Pipeline(steps=[('preprocessor', newpreproc), ('classifier', DecisionTreeClassifier())])"
   ]
  },
  {
   "cell_type": "code",
   "execution_count": 29,
   "metadata": {},
   "outputs": [
    {
     "data": {
      "text/plain": [
       "0.6809815950920245"
      ]
     },
     "execution_count": 29,
     "metadata": {},
     "output_type": "execute_result"
    }
   ],
   "source": [
    "# features\n",
    "newX = df.drop(columns = ['Rk_reg', 'Player', 'outcome'])\n",
    "# outcome\n",
    "newY = df.outcome\n",
    "\n",
    "# test size is the year 2018, which is 1 of the 7 years from 2012-2018\n",
    "newX_train, newX_test, newY_train, newY_test = train_test_split(newX, newY, test_size=1/7) \n",
    "newpl.fit(newX_train, newY_train)\n",
    "newpl.score(newX_test, newY_test)"
   ]
  },
  {
   "cell_type": "markdown",
   "metadata": {},
   "source": [
    "Finding the best mix of parameters using grid search, for **decision tree classifier**."
   ]
  },
  {
   "cell_type": "code",
   "execution_count": 320,
   "metadata": {},
   "outputs": [
    {
     "data": {
      "text/plain": [
       "{'classifier__max_depth': 18,\n",
       " 'classifier__min_samples_leaf': 1,\n",
       " 'classifier__min_samples_split': 2}"
      ]
     },
     "execution_count": 320,
     "metadata": {},
     "output_type": "execute_result"
    }
   ],
   "source": [
    "#searching for the best model using grid search\n",
    "from sklearn.model_selection import GridSearchCV\n",
    "\n",
    "\n",
    "parameters = {\n",
    "    'classifier__max_depth': [2,3,5,13,15,18,None], \n",
    "    'classifier__min_samples_split':[2,3,5,8],\n",
    "    'classifier__min_samples_leaf':[1,2,3,5]\n",
    "}\n",
    "\n",
    "grid = GridSearchCV(newpl, parameters, iid=False, cv=5)\n",
    "grid.fit(newX_train, newY_train)\n",
    "grid.best_params_"
   ]
  },
  {
   "cell_type": "code",
   "execution_count": 381,
   "metadata": {},
   "outputs": [
    {
     "data": {
      "text/plain": [
       "0.6886037089895432"
      ]
     },
     "execution_count": 381,
     "metadata": {},
     "output_type": "execute_result"
    }
   ],
   "source": [
    "#the best score achieved by the best mix of parameters\n",
    "grid.best_score_"
   ]
  },
  {
   "cell_type": "markdown",
   "metadata": {},
   "source": [
    "Finding the best mix of parameters using grid search, for **random forest classifier** and **k nearest neighbors classifier**."
   ]
  },
  {
   "cell_type": "code",
   "execution_count": 33,
   "metadata": {},
   "outputs": [],
   "source": [
    "from sklearn.neighbors import KNeighborsClassifier\n",
    "from sklearn.ensemble import RandomForestClassifier"
   ]
  },
  {
   "cell_type": "code",
   "execution_count": 323,
   "metadata": {},
   "outputs": [
    {
     "data": {
      "text/plain": [
       "{'classifier__max_depth': 18,\n",
       " 'classifier__min_samples_leaf': 2,\n",
       " 'classifier__min_samples_split': 8}"
      ]
     },
     "execution_count": 323,
     "metadata": {},
     "output_type": "execute_result"
    }
   ],
   "source": [
    "#random forest classifier\n",
    "ran_pl = Pipeline(steps=[('preprocessor', newpreproc), \n",
    "                        ('classifier', RandomForestClassifier(n_estimators=10, max_depth=None))])\n",
    "\n",
    "ran_pl.fit(newX_train, newY_train)\n",
    "ran_grid = GridSearchCV(ran_pl, parameters, iid=False, cv=5)\n",
    "ran_grid.fit(newX_train, newY_train)\n",
    "ran_grid.best_params_"
   ]
  },
  {
   "cell_type": "code",
   "execution_count": 324,
   "metadata": {},
   "outputs": [
    {
     "data": {
      "text/plain": [
       "0.7080518295853983"
      ]
     },
     "execution_count": 324,
     "metadata": {},
     "output_type": "execute_result"
    }
   ],
   "source": [
    "#the best score achieved by random forest classifier\n",
    "ran_grid.best_score_"
   ]
  },
  {
   "cell_type": "code",
   "execution_count": 343,
   "metadata": {},
   "outputs": [
    {
     "data": {
      "text/plain": [
       "{'classifier__leaf_size': 1, 'classifier__n_neighbors': 7}"
      ]
     },
     "execution_count": 343,
     "metadata": {},
     "output_type": "execute_result"
    }
   ],
   "source": [
    "#k nearest neighbor classifier\n",
    "parameters = {\n",
    "    'classifier__n_neighbors': [1,2,3,5,7], \n",
    "    'classifier__leaf_size':[1,2,3,5]\n",
    "}\n",
    "\n",
    "knn_pl = Pipeline(steps=[('preprocessor', newpreproc), \n",
    "                        ('classifier', KNeighborsClassifier(n_neighbors=1))])\n",
    "knn_pl.fit(newX_train, newY_train)\n",
    "knn_grid = GridSearchCV(knn_pl, parameters, iid=False, cv=5)\n",
    "knn_grid.fit(newX_train, newY_train)\n",
    "knn_grid.best_params_"
   ]
  },
  {
   "cell_type": "code",
   "execution_count": 382,
   "metadata": {},
   "outputs": [
    {
     "data": {
      "text/plain": [
       "0.6558757879747932"
      ]
     },
     "execution_count": 382,
     "metadata": {},
     "output_type": "execute_result"
    }
   ],
   "source": [
    "#the best score achieved by k nearest neighbor classifier\n",
    "knn_grid.best_score_"
   ]
  },
  {
   "cell_type": "code",
   "execution_count": null,
   "metadata": {},
   "outputs": [],
   "source": []
  },
  {
   "cell_type": "markdown",
   "metadata": {},
   "source": [
    "### Results: Fairness Evaluation\n",
    "---"
   ]
  },
  {
   "cell_type": "markdown",
   "metadata": {},
   "source": [
    "Evaluating model for fairness based on whether or not a player's veteran status affects him entering the playoffs."
   ]
  },
  {
   "cell_type": "code",
   "execution_count": 35,
   "metadata": {},
   "outputs": [],
   "source": [
    "from sklearn import metrics\n",
    "#permutation test on whether predicting playoff entry is consistent with age above 32\n",
    "#testing whether the model is consistent with veterans (players over 32)\n",
    "predictions = ran_pl.predict(newX_test)\n",
    "perm = newX_test\n",
    "\n",
    "#creating table of actual outcomes and predictions\n",
    "perm['predictions'] = predictions\n",
    "perm['outcome'] = newY_test\n",
    "perm['veteran'] = (perm.Age_reg >= 32).replace({True:'veteran', False:'not veteran'})\n"
   ]
  },
  {
   "cell_type": "markdown",
   "metadata": {},
   "source": [
    "Running permutation tests for accuracy and True Positive parities.\n",
    "\n",
    "Setting significance value at p = 0.05."
   ]
  },
  {
   "cell_type": "code",
   "execution_count": 42,
   "metadata": {},
   "outputs": [
    {
     "data": {
      "text/plain": [
       "0.45"
      ]
     },
     "execution_count": 42,
     "metadata": {},
     "output_type": "execute_result"
    }
   ],
   "source": [
    "#Accuracy parity\n",
    "obs = perm.groupby('veteran').apply(lambda x: metrics.accuracy_score(x.outcome, x.predictions)).diff().iloc[-1]\n",
    "\n",
    "metrs = []\n",
    "for _ in range(100):\n",
    "    s = (\n",
    "        perm[['veteran', 'predictions', 'outcome']]\n",
    "        .assign(veteran=perm.veteran.sample(frac=1.0, replace=False).reset_index(drop=True))\n",
    "        .groupby('veteran')\n",
    "        .apply(lambda x: metrics.accuracy_score(x.outcome, x.predictions))\n",
    "        .diff()\n",
    "        .iloc[-1]\n",
    "    )\n",
    "    \n",
    "    metrs.append(s)\n",
    "pd.Series(metrs <= obs).mean()\n"
   ]
  },
  {
   "cell_type": "code",
   "execution_count": 53,
   "metadata": {},
   "outputs": [
    {
     "name": "stdout",
     "output_type": "stream",
     "text": [
      "0.37\n"
     ]
    }
   ],
   "source": [
    "#True Positive parity\n",
    "obs = perm.groupby('veteran').apply(lambda x: metrics.recall_score(x.outcome, x.predictions)).diff().iloc[-1]\n",
    "\n",
    "metrs = []\n",
    "for _ in range(100):\n",
    "    s = (\n",
    "        perm[['veteran', 'predictions', 'outcome']]\n",
    "        .assign(veteran=perm.veteran.sample(frac=1.0, replace=False).reset_index(drop=True))\n",
    "        .groupby('veteran')\n",
    "        .apply(lambda x: metrics.recall_score(x.outcome, x.predictions))\n",
    "        .diff()\n",
    "        .iloc[-1]\n",
    "    )\n",
    "    \n",
    "    metrs.append(s)\n",
    "pd.Series(metrs <= obs).mean()"
   ]
  },
  {
   "cell_type": "code",
   "execution_count": null,
   "metadata": {},
   "outputs": [],
   "source": []
  }
 ],
 "metadata": {
  "kernelspec": {
   "display_name": "Python 3",
   "language": "python",
   "name": "python3"
  },
  "language_info": {
   "codemirror_mode": {
    "name": "ipython",
    "version": 3
   },
   "file_extension": ".py",
   "mimetype": "text/x-python",
   "name": "python",
   "nbconvert_exporter": "python",
   "pygments_lexer": "ipython3",
   "version": "3.7.1"
  }
 },
 "nbformat": 4,
 "nbformat_minor": 2
}
